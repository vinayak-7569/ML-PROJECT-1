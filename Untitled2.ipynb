{
  "nbformat": 4,
  "nbformat_minor": 0,
  "metadata": {
    "colab": {
      "provenance": [],
      "mount_file_id": "1pecF2DZPZVm4AUY0SWmV4RcbEIYN0yac",
      "authorship_tag": "ABX9TyMhKgv9yNtUMDnSJ6bvX5/k",
      "include_colab_link": true
    },
    "kernelspec": {
      "name": "python3",
      "display_name": "Python 3"
    },
    "language_info": {
      "name": "python"
    }
  },
  "cells": [
    {
      "cell_type": "markdown",
      "metadata": {
        "id": "view-in-github",
        "colab_type": "text"
      },
      "source": [
        "<a href=\"https://colab.research.google.com/github/vinayak-7569/ML-PROJECT-1/blob/main/Untitled2.ipynb\" target=\"_parent\"><img src=\"https://colab.research.google.com/assets/colab-badge.svg\" alt=\"Open In Colab\"/></a>"
      ]
    },
    {
      "cell_type": "code",
      "source": [
        "import pandas as pd\n",
        "from sklearn.model_selection import train_test_split\n",
        "from sklearn.linear_model import LogisticRegression\n",
        "from sklearn.metrics import accuracy_score, classification_report, confusion_matrix\n",
        "\n",
        "# Load the dataset (replace 'your_dataset.csv' with your actual file path)\n",
        "# Ensure your dataset has a column for the target variable (e.g., 'Class' for breast_cancer dataset)\n",
        "data = pd.read_csv('/content/breast_cancer.csv')\n",
        "\n",
        "# Define features (X) and target variable (y)\n",
        "# Assuming 'Class' is the target variable for breast_cancer dataset\n",
        "X = data.drop('Class', axis=1)  # Features (all columns except 'Class')\n",
        "y = data['Class']  # Target variable ('Class')\n",
        "\n",
        "# Split data into training and testing sets\n",
        "X_train, X_test, y_train, y_test = train_test_split(X, y, test_size=0.2, random_state=42)  # 80% train, 20% test\n",
        "\n",
        "# Initialize and train a Logistic Regression model\n",
        "logreg_model = LogisticRegression(max_iter=1000)  # You can adjust parameters as needed\n",
        "logreg_model.fit(X_train, y_train)\n",
        "\n",
        "# Make predictions on the test set\n",
        "y_pred = logreg_model.predict(X_test)\n",
        "\n",
        "# Evaluate the model\n",
        "accuracy = accuracy_score(y_test, y_pred)\n",
        "print(f\"Accuracy: {accuracy}\")\n",
        "print(classification_report(y_test, y_pred))\n",
        "\n",
        "# Confusion Matrix\n",
        "cm = confusion_matrix(y_test, y_pred)\n",
        "print(\"Confusion Matrix:\\n\", cm)\n",
        "\n"
      ],
      "metadata": {
        "id": "m44dL8rpY_gX",
        "colab": {
          "base_uri": "https://localhost:8080/"
        },
        "outputId": "b590d485-5d01-400b-ec2c-1a1b7e74a5b5"
      },
      "execution_count": 4,
      "outputs": [
        {
          "output_type": "stream",
          "name": "stdout",
          "text": [
            "Accuracy: 0.9562043795620438\n",
            "              precision    recall  f1-score   support\n",
            "\n",
            "           2       0.94      0.99      0.96        79\n",
            "           4       0.98      0.91      0.95        58\n",
            "\n",
            "    accuracy                           0.96       137\n",
            "   macro avg       0.96      0.95      0.95       137\n",
            "weighted avg       0.96      0.96      0.96       137\n",
            "\n",
            "Confusion Matrix:\n",
            " [[78  1]\n",
            " [ 5 53]]\n"
          ]
        }
      ]
    }
  ]
}